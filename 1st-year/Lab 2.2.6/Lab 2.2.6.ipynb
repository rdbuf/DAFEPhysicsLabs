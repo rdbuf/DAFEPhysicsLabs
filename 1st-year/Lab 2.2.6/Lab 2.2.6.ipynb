{
 "cells": [
  {
   "cell_type": "markdown",
   "metadata": {},
   "source": [
    "# 2.2.6 Определение энергии активации по температурной зависимости вязкости жидкости"
   ]
  },
  {
   "cell_type": "code",
   "execution_count": 1,
   "metadata": {},
   "outputs": [],
   "source": [
    "import pandas as pd\n",
    "import numpy as np\n",
    "import seaborn as sns\n",
    "import matplotlib.pyplot as plt\n",
    "import scipy.stats"
   ]
  },
  {
   "cell_type": "code",
   "execution_count": 2,
   "metadata": {},
   "outputs": [
    {
     "data": {
      "text/html": [
       "<div>\n",
       "<style scoped>\n",
       "    .dataframe tbody tr th:only-of-type {\n",
       "        vertical-align: middle;\n",
       "    }\n",
       "\n",
       "    .dataframe tbody tr th {\n",
       "        vertical-align: top;\n",
       "    }\n",
       "\n",
       "    .dataframe thead th {\n",
       "        text-align: right;\n",
       "    }\n",
       "</style>\n",
       "<table border=\"1\" class=\"dataframe\">\n",
       "  <thead>\n",
       "    <tr style=\"text-align: right;\">\n",
       "      <th></th>\n",
       "      <th>temp</th>\n",
       "      <th>diameter</th>\n",
       "      <th>time</th>\n",
       "    </tr>\n",
       "  </thead>\n",
       "  <tbody>\n",
       "    <tr>\n",
       "      <th>0</th>\n",
       "      <td>300</td>\n",
       "      <td>0.00124</td>\n",
       "      <td>63.60</td>\n",
       "    </tr>\n",
       "    <tr>\n",
       "      <th>1</th>\n",
       "      <td>300</td>\n",
       "      <td>0.00112</td>\n",
       "      <td>79.00</td>\n",
       "    </tr>\n",
       "    <tr>\n",
       "      <th>2</th>\n",
       "      <td>300</td>\n",
       "      <td>0.00112</td>\n",
       "      <td>74.00</td>\n",
       "    </tr>\n",
       "    <tr>\n",
       "      <th>3</th>\n",
       "      <td>300</td>\n",
       "      <td>0.00118</td>\n",
       "      <td>86.10</td>\n",
       "    </tr>\n",
       "    <tr>\n",
       "      <th>4</th>\n",
       "      <td>300</td>\n",
       "      <td>0.00123</td>\n",
       "      <td>67.10</td>\n",
       "    </tr>\n",
       "    <tr>\n",
       "      <th>5</th>\n",
       "      <td>306</td>\n",
       "      <td>0.00122</td>\n",
       "      <td>51.00</td>\n",
       "    </tr>\n",
       "    <tr>\n",
       "      <th>6</th>\n",
       "      <td>306</td>\n",
       "      <td>0.00125</td>\n",
       "      <td>53.70</td>\n",
       "    </tr>\n",
       "    <tr>\n",
       "      <th>7</th>\n",
       "      <td>306</td>\n",
       "      <td>0.00125</td>\n",
       "      <td>53.41</td>\n",
       "    </tr>\n",
       "    <tr>\n",
       "      <th>8</th>\n",
       "      <td>306</td>\n",
       "      <td>0.00116</td>\n",
       "      <td>55.35</td>\n",
       "    </tr>\n",
       "    <tr>\n",
       "      <th>9</th>\n",
       "      <td>306</td>\n",
       "      <td>0.00115</td>\n",
       "      <td>60.25</td>\n",
       "    </tr>\n",
       "    <tr>\n",
       "      <th>10</th>\n",
       "      <td>313</td>\n",
       "      <td>0.00108</td>\n",
       "      <td>39.40</td>\n",
       "    </tr>\n",
       "    <tr>\n",
       "      <th>11</th>\n",
       "      <td>313</td>\n",
       "      <td>0.00124</td>\n",
       "      <td>31.30</td>\n",
       "    </tr>\n",
       "    <tr>\n",
       "      <th>12</th>\n",
       "      <td>313</td>\n",
       "      <td>0.00118</td>\n",
       "      <td>33.45</td>\n",
       "    </tr>\n",
       "    <tr>\n",
       "      <th>13</th>\n",
       "      <td>313</td>\n",
       "      <td>0.00105</td>\n",
       "      <td>34.35</td>\n",
       "    </tr>\n",
       "    <tr>\n",
       "      <th>14</th>\n",
       "      <td>313</td>\n",
       "      <td>0.00122</td>\n",
       "      <td>30.07</td>\n",
       "    </tr>\n",
       "  </tbody>\n",
       "</table>\n",
       "</div>"
      ],
      "text/plain": [
       "    temp  diameter   time\n",
       "0    300   0.00124  63.60\n",
       "1    300   0.00112  79.00\n",
       "2    300   0.00112  74.00\n",
       "3    300   0.00118  86.10\n",
       "4    300   0.00123  67.10\n",
       "5    306   0.00122  51.00\n",
       "6    306   0.00125  53.70\n",
       "7    306   0.00125  53.41\n",
       "8    306   0.00116  55.35\n",
       "9    306   0.00115  60.25\n",
       "10   313   0.00108  39.40\n",
       "11   313   0.00124  31.30\n",
       "12   313   0.00118  33.45\n",
       "13   313   0.00105  34.35\n",
       "14   313   0.00122  30.07"
      ]
     },
     "execution_count": 2,
     "metadata": {},
     "output_type": "execute_result"
    }
   ],
   "source": [
    "data = pd.read_csv('data.csv')\n",
    "data['diameter'] /= 1000\n",
    "data['temp'] += 273\n",
    "data"
   ]
  },
  {
   "cell_type": "markdown",
   "metadata": {},
   "source": [
    " "
   ]
  },
  {
   "cell_type": "markdown",
   "metadata": {},
   "source": [
    " "
   ]
  },
  {
   "cell_type": "markdown",
   "metadata": {},
   "source": [
    " "
   ]
  },
  {
   "cell_type": "markdown",
   "metadata": {},
   "source": [
    " "
   ]
  },
  {
   "cell_type": "markdown",
   "metadata": {},
   "source": [
    " "
   ]
  },
  {
   "cell_type": "markdown",
   "metadata": {},
   "source": [
    " "
   ]
  },
  {
   "cell_type": "markdown",
   "metadata": {},
   "source": [
    " "
   ]
  },
  {
   "cell_type": "markdown",
   "metadata": {},
   "source": [
    "## 1. $\\eta$"
   ]
  },
  {
   "cell_type": "code",
   "execution_count": 3,
   "metadata": {},
   "outputs": [
    {
     "data": {
      "image/png": "[encoded data removed]",
      "text/plain": [
       "<Figure size 432x288 with 1 Axes>"
      ]
     },
     "metadata": {
      "needs_background": "light"
     },
     "output_type": "display_data"
    }
   ],
   "source": [
    "def v_set(time): return 0.1 / time\n",
    "def rho_liq(temp): return temp.apply({273+27: 1241, 273+33: 1237, 273+40: 1231}.__getitem__)\n",
    "def eta(r, temp, time): return 2/9 * 9.81 * r**2 * (2600 - rho_liq(temp)) / v_set(time)\n",
    "data['eta'] = eta(data['diameter']/2, data['temp'], data['time'])\n",
    "plt.plot(data['diameter']/2, data['eta'])\n",
    "plt.title('Зависимость вычисленной вязкости от радиуса\\nне прослеживается')\n",
    "plt.xlabel('$r$, м')\n",
    "plt.ylabel('$\\eta$, Па·с');"
   ]
  },
  {
   "cell_type": "markdown",
   "metadata": {},
   "source": [
    "## 2. $Re$, $\\tau$"
   ]
  },
  {
   "cell_type": "code",
   "execution_count": 4,
   "metadata": {},
   "outputs": [],
   "source": [
    "def Re(r, temp, time, eta): return v_set(time) * r * rho_liq(temp) / eta\n",
    "data['Re'] = Re(data['diameter']/2, data['temp'], data['time'], data['eta'])\n",
    "def tau(r, eta): return 2/9 * r**2 * 2600 / eta\n",
    "data['tau'] = tau(data['diameter']/2, data['eta'])\n",
    "data['S'] = data['tau'] * v_set(data['time'])"
   ]
  },
  {
   "cell_type": "markdown",
   "metadata": {},
   "source": [
    " "
   ]
  },
  {
   "cell_type": "markdown",
   "metadata": {},
   "source": [
    " "
   ]
  },
  {
   "cell_type": "markdown",
   "metadata": {},
   "source": [
    " "
   ]
  },
  {
   "cell_type": "markdown",
   "metadata": {},
   "source": [
    " "
   ]
  },
  {
   "cell_type": "markdown",
   "metadata": {},
   "source": [
    " "
   ]
  },
  {
   "cell_type": "markdown",
   "metadata": {},
   "source": [
    " "
   ]
  },
  {
   "cell_type": "markdown",
   "metadata": {},
   "source": [
    " "
   ]
  },
  {
   "cell_type": "markdown",
   "metadata": {},
   "source": [
    " "
   ]
  },
  {
   "cell_type": "markdown",
   "metadata": {},
   "source": [
    "## 3. $ln \\eta (1/T)$"
   ]
  },
  {
   "cell_type": "code",
   "execution_count": 5,
   "metadata": {},
   "outputs": [
    {
     "data": {
      "image/png": "[encoded data removed]",
      "text/plain": [
       "<Figure size 432x288 with 1 Axes>"
      ]
     },
     "metadata": {
      "needs_background": "light"
     },
     "output_type": "display_data"
    }
   ],
   "source": [
    "sns.regplot(1/data['temp'], np.log(data['eta']))\n",
    "plt.xlabel('$T^{-1}$')\n",
    "plt.ylabel('$ln \\eta$');"
   ]
  },
  {
   "cell_type": "markdown",
   "metadata": {},
   "source": [
    "Затемнённая область - 95% доверительный интервал"
   ]
  },
  {
   "cell_type": "markdown",
   "metadata": {},
   "source": [
    "## 4. $W$"
   ]
  },
  {
   "cell_type": "code",
   "execution_count": 6,
   "metadata": {},
   "outputs": [
    {
     "name": "stdout",
     "output_type": "stream",
     "text": [
      "Энергия активации: 8.2e-20\n"
     ]
    }
   ],
   "source": [
    "slope, intercept, r_value, p_value, std_err = scipy.stats.linregress(1/data['temp'], np.log(data['eta']))\n",
    "W = 1.38e-23 * slope\n",
    "print(f'Энергия активации: {W:.2}')"
   ]
  },
  {
   "cell_type": "markdown",
   "metadata": {},
   "source": [
    " "
   ]
  },
  {
   "cell_type": "markdown",
   "metadata": {},
   "source": [
    " "
   ]
  },
  {
   "cell_type": "markdown",
   "metadata": {},
   "source": [
    " "
   ]
  },
  {
   "cell_type": "markdown",
   "metadata": {},
   "source": [
    " "
   ]
  },
  {
   "cell_type": "markdown",
   "metadata": {},
   "source": [
    " "
   ]
  },
  {
   "cell_type": "markdown",
   "metadata": {},
   "source": [
    " "
   ]
  },
  {
   "cell_type": "markdown",
   "metadata": {},
   "source": [
    " "
   ]
  },
  {
   "cell_type": "markdown",
   "metadata": {},
   "source": [
    " "
   ]
  },
  {
   "cell_type": "markdown",
   "metadata": {},
   "source": [
    " "
   ]
  },
  {
   "cell_type": "markdown",
   "metadata": {},
   "source": [
    " "
   ]
  },
  {
   "cell_type": "markdown",
   "metadata": {},
   "source": [
    " "
   ]
  },
  {
   "cell_type": "markdown",
   "metadata": {},
   "source": [
    " "
   ]
  },
  {
   "cell_type": "markdown",
   "metadata": {},
   "source": [
    "## Результаты вычислений"
   ]
  },
  {
   "cell_type": "code",
   "execution_count": 7,
   "metadata": {},
   "outputs": [
    {
     "data": {
      "text/html": [
       "<div>\n",
       "<style scoped>\n",
       "    .dataframe tbody tr th:only-of-type {\n",
       "        vertical-align: middle;\n",
       "    }\n",
       "\n",
       "    .dataframe tbody tr th {\n",
       "        vertical-align: top;\n",
       "    }\n",
       "\n",
       "    .dataframe thead th {\n",
       "        text-align: right;\n",
       "    }\n",
       "</style>\n",
       "<table border=\"1\" class=\"dataframe\">\n",
       "  <thead>\n",
       "    <tr style=\"text-align: right;\">\n",
       "      <th></th>\n",
       "      <th>temp</th>\n",
       "      <th>diameter</th>\n",
       "      <th>time</th>\n",
       "      <th>eta</th>\n",
       "      <th>Re</th>\n",
       "      <th>tau</th>\n",
       "      <th>S</th>\n",
       "    </tr>\n",
       "  </thead>\n",
       "  <tbody>\n",
       "    <tr>\n",
       "      <th>0</th>\n",
       "      <td>300</td>\n",
       "      <td>0.00124</td>\n",
       "      <td>63.60</td>\n",
       "      <td>0.724297</td>\n",
       "      <td>0.001670</td>\n",
       "      <td>0.000307</td>\n",
       "      <td>4.821372e-07</td>\n",
       "    </tr>\n",
       "    <tr>\n",
       "      <th>1</th>\n",
       "      <td>300</td>\n",
       "      <td>0.00112</td>\n",
       "      <td>79.00</td>\n",
       "      <td>0.733971</td>\n",
       "      <td>0.001199</td>\n",
       "      <td>0.000247</td>\n",
       "      <td>3.124861e-07</td>\n",
       "    </tr>\n",
       "    <tr>\n",
       "      <th>2</th>\n",
       "      <td>300</td>\n",
       "      <td>0.00112</td>\n",
       "      <td>74.00</td>\n",
       "      <td>0.687517</td>\n",
       "      <td>0.001366</td>\n",
       "      <td>0.000264</td>\n",
       "      <td>3.561406e-07</td>\n",
       "    </tr>\n",
       "    <tr>\n",
       "      <th>3</th>\n",
       "      <td>300</td>\n",
       "      <td>0.00118</td>\n",
       "      <td>86.10</td>\n",
       "      <td>0.887939</td>\n",
       "      <td>0.000958</td>\n",
       "      <td>0.000227</td>\n",
       "      <td>2.630744e-07</td>\n",
       "    </tr>\n",
       "    <tr>\n",
       "      <th>4</th>\n",
       "      <td>300</td>\n",
       "      <td>0.00123</td>\n",
       "      <td>67.10</td>\n",
       "      <td>0.751880</td>\n",
       "      <td>0.001513</td>\n",
       "      <td>0.000291</td>\n",
       "      <td>4.331515e-07</td>\n",
       "    </tr>\n",
       "    <tr>\n",
       "      <th>5</th>\n",
       "      <td>306</td>\n",
       "      <td>0.00122</td>\n",
       "      <td>51.00</td>\n",
       "      <td>0.563874</td>\n",
       "      <td>0.002624</td>\n",
       "      <td>0.000381</td>\n",
       "      <td>7.475980e-07</td>\n",
       "    </tr>\n",
       "    <tr>\n",
       "      <th>6</th>\n",
       "      <td>306</td>\n",
       "      <td>0.00125</td>\n",
       "      <td>53.70</td>\n",
       "      <td>0.623285</td>\n",
       "      <td>0.002310</td>\n",
       "      <td>0.000362</td>\n",
       "      <td>6.743105e-07</td>\n",
       "    </tr>\n",
       "    <tr>\n",
       "      <th>7</th>\n",
       "      <td>306</td>\n",
       "      <td>0.00125</td>\n",
       "      <td>53.41</td>\n",
       "      <td>0.619919</td>\n",
       "      <td>0.002335</td>\n",
       "      <td>0.000364</td>\n",
       "      <td>6.816530e-07</td>\n",
       "    </tr>\n",
       "    <tr>\n",
       "      <th>8</th>\n",
       "      <td>306</td>\n",
       "      <td>0.00116</td>\n",
       "      <td>55.35</td>\n",
       "      <td>0.553256</td>\n",
       "      <td>0.002343</td>\n",
       "      <td>0.000351</td>\n",
       "      <td>6.347069e-07</td>\n",
       "    </tr>\n",
       "    <tr>\n",
       "      <th>9</th>\n",
       "      <td>306</td>\n",
       "      <td>0.00115</td>\n",
       "      <td>60.25</td>\n",
       "      <td>0.591896</td>\n",
       "      <td>0.001995</td>\n",
       "      <td>0.000323</td>\n",
       "      <td>5.356664e-07</td>\n",
       "    </tr>\n",
       "    <tr>\n",
       "      <th>10</th>\n",
       "      <td>313</td>\n",
       "      <td>0.00108</td>\n",
       "      <td>39.40</td>\n",
       "      <td>0.342881</td>\n",
       "      <td>0.004921</td>\n",
       "      <td>0.000491</td>\n",
       "      <td>1.247121e-06</td>\n",
       "    </tr>\n",
       "    <tr>\n",
       "      <th>11</th>\n",
       "      <td>313</td>\n",
       "      <td>0.00124</td>\n",
       "      <td>31.30</td>\n",
       "      <td>0.359077</td>\n",
       "      <td>0.006791</td>\n",
       "      <td>0.000619</td>\n",
       "      <td>1.976115e-06</td>\n",
       "    </tr>\n",
       "    <tr>\n",
       "      <th>12</th>\n",
       "      <td>313</td>\n",
       "      <td>0.00118</td>\n",
       "      <td>33.45</td>\n",
       "      <td>0.347504</td>\n",
       "      <td>0.006248</td>\n",
       "      <td>0.000579</td>\n",
       "      <td>1.730249e-06</td>\n",
       "    </tr>\n",
       "    <tr>\n",
       "      <th>13</th>\n",
       "      <td>313</td>\n",
       "      <td>0.00105</td>\n",
       "      <td>34.35</td>\n",
       "      <td>0.282556</td>\n",
       "      <td>0.006659</td>\n",
       "      <td>0.000564</td>\n",
       "      <td>1.640769e-06</td>\n",
       "    </tr>\n",
       "    <tr>\n",
       "      <th>14</th>\n",
       "      <td>313</td>\n",
       "      <td>0.00122</td>\n",
       "      <td>30.07</td>\n",
       "      <td>0.333928</td>\n",
       "      <td>0.007478</td>\n",
       "      <td>0.000644</td>\n",
       "      <td>2.141086e-06</td>\n",
       "    </tr>\n",
       "  </tbody>\n",
       "</table>\n",
       "</div>"
      ],
      "text/plain": [
       "    temp  diameter   time       eta        Re       tau             S\n",
       "0    300   0.00124  63.60  0.724297  0.001670  0.000307  4.821372e-07\n",
       "1    300   0.00112  79.00  0.733971  0.001199  0.000247  3.124861e-07\n",
       "2    300   0.00112  74.00  0.687517  0.001366  0.000264  3.561406e-07\n",
       "3    300   0.00118  86.10  0.887939  0.000958  0.000227  2.630744e-07\n",
       "4    300   0.00123  67.10  0.751880  0.001513  0.000291  4.331515e-07\n",
       "5    306   0.00122  51.00  0.563874  0.002624  0.000381  7.475980e-07\n",
       "6    306   0.00125  53.70  0.623285  0.002310  0.000362  6.743105e-07\n",
       "7    306   0.00125  53.41  0.619919  0.002335  0.000364  6.816530e-07\n",
       "8    306   0.00116  55.35  0.553256  0.002343  0.000351  6.347069e-07\n",
       "9    306   0.00115  60.25  0.591896  0.001995  0.000323  5.356664e-07\n",
       "10   313   0.00108  39.40  0.342881  0.004921  0.000491  1.247121e-06\n",
       "11   313   0.00124  31.30  0.359077  0.006791  0.000619  1.976115e-06\n",
       "12   313   0.00118  33.45  0.347504  0.006248  0.000579  1.730249e-06\n",
       "13   313   0.00105  34.35  0.282556  0.006659  0.000564  1.640769e-06\n",
       "14   313   0.00122  30.07  0.333928  0.007478  0.000644  2.141086e-06"
      ]
     },
     "execution_count": 7,
     "metadata": {},
     "output_type": "execute_result"
    }
   ],
   "source": [
    "data"
   ]
  },
  {
   "cell_type": "code",
   "execution_count": null,
   "metadata": {},
   "outputs": [],
   "source": []
  }
 ],
 "metadata": {
  "kernelspec": {
   "display_name": "Python 3",
   "language": "python",
   "name": "python3"
  },
  "language_info": {
   "codemirror_mode": {
    "name": "ipython",
    "version": 3
   },
   "file_extension": ".py",
   "mimetype": "text/x-python",
   "name": "python",
   "nbconvert_exporter": "python",
   "pygments_lexer": "ipython3",
   "version": "3.7.3"
  }
 },
 "nbformat": 4,
 "nbformat_minor": 2
}
