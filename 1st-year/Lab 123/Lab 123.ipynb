{
 "cells": [
  {
   "cell_type": "markdown",
   "metadata": {},
   "source": [
    "# 123. Исследование зависимости теплопроводности газа от температуры при атмосферном давлении"
   ]
  },
  {
   "cell_type": "code",
   "execution_count": 1,
   "metadata": {},
   "outputs": [],
   "source": [
    "import seaborn as sns\n",
    "import pandas as pd\n",
    "import scipy\n",
    "import matplotlib.pyplot as plt"
   ]
  },
  {
   "cell_type": "code",
   "execution_count": 2,
   "metadata": {},
   "outputs": [
    {
     "data": {
      "text/html": [
       "<div>\n",
       "<style scoped>\n",
       "    .dataframe tbody tr th:only-of-type {\n",
       "        vertical-align: middle;\n",
       "    }\n",
       "\n",
       "    .dataframe tbody tr th {\n",
       "        vertical-align: top;\n",
       "    }\n",
       "\n",
       "    .dataframe thead th {\n",
       "        text-align: right;\n",
       "    }\n",
       "</style>\n",
       "<table border=\"1\" class=\"dataframe\">\n",
       "  <thead>\n",
       "    <tr style=\"text-align: right;\">\n",
       "      <th></th>\n",
       "      <th>Tc, gr. Cels</th>\n",
       "      <th>Jc, mA</th>\n",
       "      <th>Uc, V</th>\n",
       "      <th>Rc, Ohm</th>\n",
       "    </tr>\n",
       "  </thead>\n",
       "  <tbody>\n",
       "    <tr>\n",
       "      <th>0</th>\n",
       "      <td>22.4</td>\n",
       "      <td>9.920</td>\n",
       "      <td>0.0376</td>\n",
       "      <td>3.7903</td>\n",
       "    </tr>\n",
       "    <tr>\n",
       "      <th>1</th>\n",
       "      <td>26.7</td>\n",
       "      <td>9.916</td>\n",
       "      <td>0.0382</td>\n",
       "      <td>3.8524</td>\n",
       "    </tr>\n",
       "    <tr>\n",
       "      <th>2</th>\n",
       "      <td>30.3</td>\n",
       "      <td>9.915</td>\n",
       "      <td>0.0391</td>\n",
       "      <td>3.9435</td>\n",
       "    </tr>\n",
       "    <tr>\n",
       "      <th>3</th>\n",
       "      <td>34.5</td>\n",
       "      <td>9.915</td>\n",
       "      <td>0.0391</td>\n",
       "      <td>3.9435</td>\n",
       "    </tr>\n",
       "    <tr>\n",
       "      <th>4</th>\n",
       "      <td>38.5</td>\n",
       "      <td>9.914</td>\n",
       "      <td>0.0398</td>\n",
       "      <td>4.0145</td>\n",
       "    </tr>\n",
       "    <tr>\n",
       "      <th>5</th>\n",
       "      <td>42.2</td>\n",
       "      <td>9.915</td>\n",
       "      <td>0.0403</td>\n",
       "      <td>4.0645</td>\n",
       "    </tr>\n",
       "    <tr>\n",
       "      <th>6</th>\n",
       "      <td>46.2</td>\n",
       "      <td>9.913</td>\n",
       "      <td>0.0409</td>\n",
       "      <td>4.1259</td>\n",
       "    </tr>\n",
       "    <tr>\n",
       "      <th>7</th>\n",
       "      <td>50.2</td>\n",
       "      <td>9.913</td>\n",
       "      <td>0.0414</td>\n",
       "      <td>4.1763</td>\n",
       "    </tr>\n",
       "    <tr>\n",
       "      <th>8</th>\n",
       "      <td>54.2</td>\n",
       "      <td>9.913</td>\n",
       "      <td>0.0419</td>\n",
       "      <td>4.2268</td>\n",
       "    </tr>\n",
       "    <tr>\n",
       "      <th>9</th>\n",
       "      <td>58.4</td>\n",
       "      <td>9.911</td>\n",
       "      <td>0.0426</td>\n",
       "      <td>4.2983</td>\n",
       "    </tr>\n",
       "  </tbody>\n",
       "</table>\n",
       "</div>"
      ],
      "text/plain": [
       "   Tc, gr. Cels  Jc, mA   Uc, V  Rc, Ohm\n",
       "0          22.4   9.920  0.0376   3.7903\n",
       "1          26.7   9.916  0.0382   3.8524\n",
       "2          30.3   9.915  0.0391   3.9435\n",
       "3          34.5   9.915  0.0391   3.9435\n",
       "4          38.5   9.914  0.0398   4.0145\n",
       "5          42.2   9.915  0.0403   4.0645\n",
       "6          46.2   9.913  0.0409   4.1259\n",
       "7          50.2   9.913  0.0414   4.1763\n",
       "8          54.2   9.913  0.0419   4.2268\n",
       "9          58.4   9.911  0.0426   4.2983"
      ]
     },
     "execution_count": 2,
     "metadata": {},
     "output_type": "execute_result"
    }
   ],
   "source": [
    "calibr = pd.read_csv('calibration.tsv', sep='\\t')\n",
    "calibr"
   ]
  },
  {
   "cell_type": "code",
   "execution_count": 3,
   "metadata": {},
   "outputs": [
    {
     "data": {
      "text/html": [
       "<div>\n",
       "<style scoped>\n",
       "    .dataframe tbody tr th:only-of-type {\n",
       "        vertical-align: middle;\n",
       "    }\n",
       "\n",
       "    .dataframe tbody tr th {\n",
       "        vertical-align: top;\n",
       "    }\n",
       "\n",
       "    .dataframe thead th {\n",
       "        text-align: right;\n",
       "    }\n",
       "</style>\n",
       "<table border=\"1\" class=\"dataframe\">\n",
       "  <thead>\n",
       "    <tr style=\"text-align: right;\">\n",
       "      <th></th>\n",
       "      <th>T2, gr. Cels</th>\n",
       "      <th>J, mA</th>\n",
       "      <th>U, V</th>\n",
       "      <th>R, Ohm</th>\n",
       "      <th>delta_T</th>\n",
       "      <th>Tcp</th>\n",
       "      <th>K_exp</th>\n",
       "      <th>K_tabl</th>\n",
       "    </tr>\n",
       "  </thead>\n",
       "  <tbody>\n",
       "    <tr>\n",
       "      <th>0</th>\n",
       "      <td>23.1</td>\n",
       "      <td>198.55</td>\n",
       "      <td>0.7629</td>\n",
       "      <td>3.8424</td>\n",
       "      <td>12.72</td>\n",
       "      <td>29.46</td>\n",
       "      <td>0.02361</td>\n",
       "      <td>0.02636</td>\n",
       "    </tr>\n",
       "    <tr>\n",
       "      <th>1</th>\n",
       "      <td>23.4</td>\n",
       "      <td>207.53</td>\n",
       "      <td>0.7992</td>\n",
       "      <td>3.8510</td>\n",
       "      <td>13.15</td>\n",
       "      <td>29.98</td>\n",
       "      <td>0.02500</td>\n",
       "      <td>0.02640</td>\n",
       "    </tr>\n",
       "    <tr>\n",
       "      <th>2</th>\n",
       "      <td>23.5</td>\n",
       "      <td>214.55</td>\n",
       "      <td>0.8271</td>\n",
       "      <td>3.8550</td>\n",
       "      <td>13.41</td>\n",
       "      <td>30.20</td>\n",
       "      <td>0.02625</td>\n",
       "      <td>0.02642</td>\n",
       "    </tr>\n",
       "    <tr>\n",
       "      <th>3</th>\n",
       "      <td>23.6</td>\n",
       "      <td>230.79</td>\n",
       "      <td>0.8913</td>\n",
       "      <td>3.8620</td>\n",
       "      <td>13.94</td>\n",
       "      <td>30.57</td>\n",
       "      <td>0.02928</td>\n",
       "      <td>0.02645</td>\n",
       "    </tr>\n",
       "    <tr>\n",
       "      <th>4</th>\n",
       "      <td>23.6</td>\n",
       "      <td>238.68</td>\n",
       "      <td>0.9230</td>\n",
       "      <td>3.8671</td>\n",
       "      <td>14.42</td>\n",
       "      <td>30.82</td>\n",
       "      <td>0.03030</td>\n",
       "      <td>0.02647</td>\n",
       "    </tr>\n",
       "    <tr>\n",
       "      <th>5</th>\n",
       "      <td>42.6</td>\n",
       "      <td>198.06</td>\n",
       "      <td>0.8150</td>\n",
       "      <td>4.1149</td>\n",
       "      <td>13.16</td>\n",
       "      <td>49.18</td>\n",
       "      <td>0.02430</td>\n",
       "      <td>0.02790</td>\n",
       "    </tr>\n",
       "    <tr>\n",
       "      <th>6</th>\n",
       "      <td>42.7</td>\n",
       "      <td>206.18</td>\n",
       "      <td>0.8496</td>\n",
       "      <td>4.1207</td>\n",
       "      <td>13.58</td>\n",
       "      <td>49.49</td>\n",
       "      <td>0.02556</td>\n",
       "      <td>0.02793</td>\n",
       "    </tr>\n",
       "    <tr>\n",
       "      <th>7</th>\n",
       "      <td>42.8</td>\n",
       "      <td>213.93</td>\n",
       "      <td>0.8820</td>\n",
       "      <td>4.1228</td>\n",
       "      <td>13.66</td>\n",
       "      <td>49.63</td>\n",
       "      <td>0.02738</td>\n",
       "      <td>0.02794</td>\n",
       "    </tr>\n",
       "    <tr>\n",
       "      <th>8</th>\n",
       "      <td>42.6</td>\n",
       "      <td>228.96</td>\n",
       "      <td>0.9462</td>\n",
       "      <td>4.1326</td>\n",
       "      <td>14.86</td>\n",
       "      <td>50.03</td>\n",
       "      <td>0.02893</td>\n",
       "      <td>0.02797</td>\n",
       "    </tr>\n",
       "    <tr>\n",
       "      <th>9</th>\n",
       "      <td>42.6</td>\n",
       "      <td>237.42</td>\n",
       "      <td>0.9821</td>\n",
       "      <td>4.1366</td>\n",
       "      <td>15.24</td>\n",
       "      <td>50.22</td>\n",
       "      <td>0.03038</td>\n",
       "      <td>0.02799</td>\n",
       "    </tr>\n",
       "  </tbody>\n",
       "</table>\n",
       "</div>"
      ],
      "text/plain": [
       "   T2, gr. Cels   J, mA    U, V  R, Ohm  delta_T    Tcp    K_exp   K_tabl\n",
       "0          23.1  198.55  0.7629  3.8424    12.72  29.46  0.02361  0.02636\n",
       "1          23.4  207.53  0.7992  3.8510    13.15  29.98  0.02500  0.02640\n",
       "2          23.5  214.55  0.8271  3.8550    13.41  30.20  0.02625  0.02642\n",
       "3          23.6  230.79  0.8913  3.8620    13.94  30.57  0.02928  0.02645\n",
       "4          23.6  238.68  0.9230  3.8671    14.42  30.82  0.03030  0.02647\n",
       "5          42.6  198.06  0.8150  4.1149    13.16  49.18  0.02430  0.02790\n",
       "6          42.7  206.18  0.8496  4.1207    13.58  49.49  0.02556  0.02793\n",
       "7          42.8  213.93  0.8820  4.1228    13.66  49.63  0.02738  0.02794\n",
       "8          42.6  228.96  0.9462  4.1326    14.86  50.03  0.02893  0.02797\n",
       "9          42.6  237.42  0.9821  4.1366    15.24  50.22  0.03038  0.02799"
      ]
     },
     "execution_count": 3,
     "metadata": {},
     "output_type": "execute_result"
    }
   ],
   "source": [
    "measur = pd.read_csv('measurements.tsv', sep='\\t')\n",
    "measur"
   ]
  },
  {
   "cell_type": "markdown",
   "metadata": {},
   "source": [
    " "
   ]
  },
  {
   "cell_type": "markdown",
   "metadata": {},
   "source": [
    " "
   ]
  },
  {
   "cell_type": "markdown",
   "metadata": {},
   "source": [
    "## 1. График зависимости показаний магазина сопротивлений $R$ от температуры проволочки $T$"
   ]
  },
  {
   "cell_type": "code",
   "execution_count": 4,
   "metadata": {},
   "outputs": [
    {
     "data": {
      "image/png": "[encoded data removed]",
      "text/plain": [
       "<Figure size 432x288 with 1 Axes>"
      ]
     },
     "metadata": {
      "needs_background": "light"
     },
     "output_type": "display_data"
    }
   ],
   "source": [
    "sns.regplot(calibr['Tc, gr. Cels'], calibr['Rc, Ohm']);"
   ]
  },
  {
   "cell_type": "markdown",
   "metadata": {},
   "source": [
    "Стандартное отклонение:"
   ]
  },
  {
   "cell_type": "code",
   "execution_count": 5,
   "metadata": {},
   "outputs": [
    {
     "name": "stdout",
     "output_type": "stream",
     "text": [
      "0.00044113307605694006\n"
     ]
    }
   ],
   "source": [
    "slope, intercept, rvalue, pvalue, stderr = scipy.stats.linregress(calibr['Tc, gr. Cels'], calibr['Rc, Ohm'])\n",
    "print(f'{stderr}')"
   ]
  },
  {
   "cell_type": "markdown",
   "metadata": {},
   "source": [
    " "
   ]
  },
  {
   "cell_type": "markdown",
   "metadata": {},
   "source": [
    " "
   ]
  },
  {
   "cell_type": "markdown",
   "metadata": {},
   "source": [
    " "
   ]
  },
  {
   "cell_type": "markdown",
   "metadata": {},
   "source": [
    " "
   ]
  },
  {
   "cell_type": "markdown",
   "metadata": {},
   "source": [
    " "
   ]
  },
  {
   "cell_type": "markdown",
   "metadata": {},
   "source": [
    " "
   ]
  },
  {
   "cell_type": "markdown",
   "metadata": {},
   "source": [
    " "
   ]
  },
  {
   "cell_type": "markdown",
   "metadata": {},
   "source": [
    " "
   ]
  },
  {
   "cell_type": "markdown",
   "metadata": {},
   "source": [
    " "
   ]
  },
  {
   "cell_type": "markdown",
   "metadata": {},
   "source": [
    "## 2. График зависимости $к(t_{ср})$"
   ]
  },
  {
   "cell_type": "markdown",
   "metadata": {},
   "source": [
    "Графики отличаются масштабом по ординате"
   ]
  },
  {
   "cell_type": "code",
   "execution_count": 6,
   "metadata": {},
   "outputs": [
    {
     "data": {
      "image/png": "[encoded data removed]",
      "text/plain": [
       "<Figure size 1152x360 with 2 Axes>"
      ]
     },
     "metadata": {
      "needs_background": "light"
     },
     "output_type": "display_data"
    }
   ],
   "source": [
    "fig, ax = plt.subplots(1, 2)\n",
    "fig.set_size_inches(16,5)\n",
    "\n",
    "for i in range(2):\n",
    "    sns.regplot(measur['Tcp'], measur['K_exp'], marker='o', ax=ax[i])\n",
    "    sns.scatterplot(measur['Tcp'], measur['K_tabl'], marker='+', color='red', ax=ax[i])\n",
    "ax[0].set_ylim(0, 0.05);"
   ]
  }
 ],
 "metadata": {
  "kernelspec": {
   "display_name": "Python 3",
   "language": "python",
   "name": "python3"
  },
  "language_info": {
   "codemirror_mode": {
    "name": "ipython",
    "version": 3
   },
   "file_extension": ".py",
   "mimetype": "text/x-python",
   "name": "python",
   "nbconvert_exporter": "python",
   "pygments_lexer": "ipython3",
   "version": "3.7.3"
  }
 },
 "nbformat": 4,
 "nbformat_minor": 2
}
