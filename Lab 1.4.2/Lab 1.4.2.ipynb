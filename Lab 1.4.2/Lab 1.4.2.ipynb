{
 "cells": [
  {
   "cell_type": "code",
   "execution_count": null,
   "metadata": {},
   "outputs": [],
   "source": [
    "%matplotlib inline\n",
    "import matplotlib.pyplot as plt\n",
    "import numpy as np\n",
    "import pandas as pd"
   ]
  },
  {
   "cell_type": "markdown",
   "metadata": {},
   "source": [
    "## Задание 1"
   ]
  },
  {
   "cell_type": "code",
   "execution_count": null,
   "metadata": {},
   "outputs": [],
   "source": [
    "data = pd.read_csv(\"Table 1.csv\")\n",
    "data"
   ]
  },
  {
   "cell_type": "code",
   "execution_count": null,
   "metadata": {},
   "outputs": [],
   "source": [
    "(data[\"Высота (мм)\"] - 14.3) ** 0.5"
   ]
  },
  {
   "cell_type": "code",
   "execution_count": null,
   "metadata": {},
   "outputs": [],
   "source": [
    "import math\n",
    "tmp = data\n",
    "tmp[\"Высота (мм)\"] = (tmp[\"Высота (мм)\"] - 14.3) ** 0.5\n",
    "tmp.plot(x=\"Высота (мм)\", style=\"o\")\n",
    "plt.gcf().set_size_inches(13, 7)\n",
    "plt.grid(True)\n",
    "plt.title(\"Зависимость времени падения тела от корня из высоты\");\n",
    "plt.xlabel(\"$\\sqrt{S + h - D}$, $мм^{0.5}$\")\n",
    "plt.ylabel(\"Время падения, мс\")\n",
    "plt.legend([])"
   ]
  },
  {
   "cell_type": "markdown",
   "metadata": {},
   "source": [
    "## Задание 2"
   ]
  },
  {
   "cell_type": "code",
   "execution_count": null,
   "metadata": {},
   "outputs": [],
   "source": [
    "data = pd.read_csv(\"Table 2.csv\")\n",
    "data"
   ]
  },
  {
   "cell_type": "code",
   "execution_count": null,
   "metadata": {},
   "outputs": [],
   "source": [
    "from math import sqrt\n",
    "from copy import copy\n",
    "\n",
    "def g(S_plus_h, D, t):\n",
    "    return 2 / t**2 * (sqrt(S_plus_h - D) - sqrt(S_plus_h - D - (1000 - 20)))**2\n",
    "\n",
    "def fun(s):\n",
    "    z = copy(s)\n",
    "    z[1:] = list(map(lambda sph: g(1000, s[0], sph) * 1000, s[1:]))\n",
    "    return z\n",
    "\n",
    "data = data.rename(columns=lambda x: x.replace(\"исп.\", \"g\").replace(\"мс\", \"н*м/с^2\") if x.startswith(\" исп\") else x)\n",
    "data.apply(fun, axis=1).plot(x=\"Диаметр (мм)\", style=\"o\")\n",
    "plt.gcf().set_size_inches(13, 7)\n",
    "plt.grid(True)\n",
    "plt.ylim(0, 15);"
   ]
  },
  {
   "cell_type": "code",
   "execution_count": null,
   "metadata": {},
   "outputs": [],
   "source": []
  }
 ],
 "metadata": {
  "kernelspec": {
   "display_name": "Python 3",
   "language": "python",
   "name": "python3"
  },
  "language_info": {
   "codemirror_mode": {
    "name": "ipython",
    "version": 3
   },
   "file_extension": ".py",
   "mimetype": "text/x-python",
   "name": "python",
   "nbconvert_exporter": "python",
   "pygments_lexer": "ipython3",
   "version": "3.6.5"
  }
 },
 "nbformat": 4,
 "nbformat_minor": 2
}
