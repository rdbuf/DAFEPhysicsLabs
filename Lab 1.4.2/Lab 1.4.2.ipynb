{
 "cells": [
  {
   "cell_type": "code",
   "execution_count": 1,
   "metadata": {},
   "outputs": [],
   "source": [
    "%matplotlib inline\n",
    "import matplotlib.pyplot as plt\n",
    "import numpy as np\n",
    "import pandas as pd"
   ]
  },
  {
   "cell_type": "markdown",
   "metadata": {},
   "source": [
    "## Задание 1"
   ]
  },
  {
   "cell_type": "code",
   "execution_count": 2,
   "metadata": {},
   "outputs": [
    {
     "data": {
      "text/html": [
       "<div>\n",
       "<style scoped>\n",
       "    .dataframe tbody tr th:only-of-type {\n",
       "        vertical-align: middle;\n",
       "    }\n",
       "\n",
       "    .dataframe tbody tr th {\n",
       "        vertical-align: top;\n",
       "    }\n",
       "\n",
       "    .dataframe thead th {\n",
       "        text-align: right;\n",
       "    }\n",
       "</style>\n",
       "<table border=\"1\" class=\"dataframe\">\n",
       "  <thead>\n",
       "    <tr style=\"text-align: right;\">\n",
       "      <th></th>\n",
       "      <th>Высота (мм)</th>\n",
       "      <th>исп. 1 (мс)</th>\n",
       "      <th>исп. 2 (мс)</th>\n",
       "      <th>исп. 3 (мс)</th>\n",
       "      <th>исп. 4 (мс)</th>\n",
       "      <th>исп. 5 (мс)</th>\n",
       "    </tr>\n",
       "  </thead>\n",
       "  <tbody>\n",
       "    <tr>\n",
       "      <th>0</th>\n",
       "      <td>1200</td>\n",
       "      <td>502.60</td>\n",
       "      <td>499.01</td>\n",
       "      <td>497.66</td>\n",
       "      <td>499.63</td>\n",
       "      <td>494.30</td>\n",
       "    </tr>\n",
       "    <tr>\n",
       "      <th>1</th>\n",
       "      <td>1100</td>\n",
       "      <td>462.42</td>\n",
       "      <td>460.40</td>\n",
       "      <td>478.44</td>\n",
       "      <td>474.87</td>\n",
       "      <td>460.23</td>\n",
       "    </tr>\n",
       "    <tr>\n",
       "      <th>2</th>\n",
       "      <td>1000</td>\n",
       "      <td>560.00</td>\n",
       "      <td>456.28</td>\n",
       "      <td>495.34</td>\n",
       "      <td>461.17</td>\n",
       "      <td>494.39</td>\n",
       "    </tr>\n",
       "    <tr>\n",
       "      <th>3</th>\n",
       "      <td>900</td>\n",
       "      <td>429.68</td>\n",
       "      <td>452.36</td>\n",
       "      <td>346.65</td>\n",
       "      <td>450.24</td>\n",
       "      <td>432.53</td>\n",
       "    </tr>\n",
       "    <tr>\n",
       "      <th>4</th>\n",
       "      <td>800</td>\n",
       "      <td>389.14</td>\n",
       "      <td>414.50</td>\n",
       "      <td>404.52</td>\n",
       "      <td>416.60</td>\n",
       "      <td>395.10</td>\n",
       "    </tr>\n",
       "  </tbody>\n",
       "</table>\n",
       "</div>"
      ],
      "text/plain": [
       "   Высота (мм)   исп. 1 (мс)   исп. 2 (мс)   исп. 3 (мс)   исп. 4 (мс)  \\\n",
       "0         1200        502.60        499.01        497.66        499.63   \n",
       "1         1100        462.42        460.40        478.44        474.87   \n",
       "2         1000        560.00        456.28        495.34        461.17   \n",
       "3          900        429.68        452.36        346.65        450.24   \n",
       "4          800        389.14        414.50        404.52        416.60   \n",
       "\n",
       "    исп. 5 (мс)  \n",
       "0        494.30  \n",
       "1        460.23  \n",
       "2        494.39  \n",
       "3        432.53  \n",
       "4        395.10  "
      ]
     },
     "execution_count": 2,
     "metadata": {},
     "output_type": "execute_result"
    }
   ],
   "source": [
    "data = pd.read_csv(\"Table 1.csv\")\n",
    "data"
   ]
  },
  {
   "cell_type": "code",
   "execution_count": 3,
   "metadata": {},
   "outputs": [
    {
     "data": {
      "image/png": "[encoded data removed]",
      "text/plain": [
       "<Figure size 936x504 with 1 Axes>"
      ]
     },
     "metadata": {},
     "output_type": "display_data"
    }
   ],
   "source": [
    "import math\n",
    "tmp = data\n",
    "tmp[\"Высота (мм)\"] = (tmp[\"Высота (мм)\"] - 14.3) ** 0.5\n",
    "tmp.plot(x=\"Высота (мм)\", style=\"o\")\n",
    "plt.gcf().set_size_inches(13, 7)\n",
    "plt.grid(True)\n",
    "plt.title(\"Зависимость времени падения тела от корня из высоты\");\n",
    "plt.xlabel(\"$\\sqrt{S + h - D}$, $мм^{0.5}$\")\n",
    "plt.ylabel(\"Время падения, мс\")\n",
    "plt.legend([]);"
   ]
  },
  {
   "cell_type": "markdown",
   "metadata": {},
   "source": [
    "## Задание 2"
   ]
  },
  {
   "cell_type": "code",
   "execution_count": 4,
   "metadata": {},
   "outputs": [
    {
     "data": {
      "text/html": [
       "<div>\n",
       "<style scoped>\n",
       "    .dataframe tbody tr th:only-of-type {\n",
       "        vertical-align: middle;\n",
       "    }\n",
       "\n",
       "    .dataframe tbody tr th {\n",
       "        vertical-align: top;\n",
       "    }\n",
       "\n",
       "    .dataframe thead th {\n",
       "        text-align: right;\n",
       "    }\n",
       "</style>\n",
       "<table border=\"1\" class=\"dataframe\">\n",
       "  <thead>\n",
       "    <tr style=\"text-align: right;\">\n",
       "      <th></th>\n",
       "      <th>Диаметр (мм)</th>\n",
       "      <th>исп. 1 (мс)</th>\n",
       "      <th>исп. 2 (мс)</th>\n",
       "      <th>исп. 3 (мс)</th>\n",
       "      <th>исп. 4 (мс)</th>\n",
       "      <th>исп. 5 (мс)</th>\n",
       "    </tr>\n",
       "  </thead>\n",
       "  <tbody>\n",
       "    <tr>\n",
       "      <th>0</th>\n",
       "      <td>14.3</td>\n",
       "      <td>480.41</td>\n",
       "      <td>480.41</td>\n",
       "      <td>480.76</td>\n",
       "      <td>480.67</td>\n",
       "      <td>480.86</td>\n",
       "    </tr>\n",
       "    <tr>\n",
       "      <th>1</th>\n",
       "      <td>12.7</td>\n",
       "      <td>476.72</td>\n",
       "      <td>477.29</td>\n",
       "      <td>479.21</td>\n",
       "      <td>476.64</td>\n",
       "      <td>476.67</td>\n",
       "    </tr>\n",
       "    <tr>\n",
       "      <th>2</th>\n",
       "      <td>11.0</td>\n",
       "      <td>473.03</td>\n",
       "      <td>473.16</td>\n",
       "      <td>476.28</td>\n",
       "      <td>473.23</td>\n",
       "      <td>473.48</td>\n",
       "    </tr>\n",
       "    <tr>\n",
       "      <th>3</th>\n",
       "      <td>9.5</td>\n",
       "      <td>470.20</td>\n",
       "      <td>470.27</td>\n",
       "      <td>470.23</td>\n",
       "      <td>470.26</td>\n",
       "      <td>470.25</td>\n",
       "    </tr>\n",
       "  </tbody>\n",
       "</table>\n",
       "</div>"
      ],
      "text/plain": [
       "   Диаметр (мм)   исп. 1 (мс)   исп. 2 (мс)   исп. 3 (мс)   исп. 4 (мс)  \\\n",
       "0          14.3        480.41        480.41        480.76        480.67   \n",
       "1          12.7        476.72        477.29        479.21        476.64   \n",
       "2          11.0        473.03        473.16        476.28        473.23   \n",
       "3           9.5        470.20        470.27        470.23        470.26   \n",
       "\n",
       "    исп. 5 (мс)  \n",
       "0        480.86  \n",
       "1        476.67  \n",
       "2        473.48  \n",
       "3        470.25  "
      ]
     },
     "execution_count": 4,
     "metadata": {},
     "output_type": "execute_result"
    }
   ],
   "source": [
    "data = pd.read_csv(\"Table 2.csv\")\n",
    "data"
   ]
  },
  {
   "cell_type": "code",
   "execution_count": 5,
   "metadata": {},
   "outputs": [
    {
     "data": {
      "image/png": "[encoded data removed]",
      "text/plain": [
       "<Figure size 936x504 with 1 Axes>"
      ]
     },
     "metadata": {},
     "output_type": "display_data"
    }
   ],
   "source": [
    "from math import sqrt\n",
    "from copy import copy\n",
    "\n",
    "def g(S_plus_h, D, t):\n",
    "    return 2 / t**2 * (sqrt(S_plus_h - D) - sqrt(S_plus_h - D - (1000 - 20)))**2\n",
    "\n",
    "def fun(s):\n",
    "    z = copy(s)\n",
    "    z[1:] = list(map(lambda sph: g(1000, s[0], sph) * 1000, s[1:]))\n",
    "    return z\n",
    "\n",
    "data = data.rename(columns=lambda x: x.replace(\"исп.\", \"g\").replace(\"мс\", \"н*м/с^2\") if x.startswith(\" исп\") else x)\n",
    "data.apply(fun, axis=1).plot(x=\"Диаметр (мм)\", style=\"o\")\n",
    "plt.gcf().set_size_inches(13, 7)\n",
    "plt.grid(True)\n",
    "plt.ylim(0, 15);"
   ]
  },
  {
   "cell_type": "markdown",
   "metadata": {},
   "source": [
    "# Задание 3"
   ]
  },
  {
   "cell_type": "code",
   "execution_count": 13,
   "metadata": {},
   "outputs": [],
   "source": [
    "l1, l2 = 22, 42 # см\n",
    "\n",
    "n = 200\n",
    "t1, t2 = 318, 320 # с\n",
    "\n",
    "pi = 3.14159265"
   ]
  },
  {
   "cell_type": "code",
   "execution_count": 18,
   "metadata": {},
   "outputs": [
    {
     "name": "stdout",
     "output_type": "stream",
     "text": [
      "9.931579763975238\n"
     ]
    }
   ],
   "source": [
    "g = 4 * pi**2 * 0.01 * (l1 + l2) / ((t1 + t2) / (2 * n))**2\n",
    "print(g)"
   ]
  },
  {
   "cell_type": "code",
   "execution_count": 21,
   "metadata": {},
   "outputs": [
    {
     "name": "stdout",
     "output_type": "stream",
     "text": [
      "0.25846280583810244\n"
     ]
    }
   ],
   "source": [
    "t0 = ((l1 * t1**2 - l2 * t2**2)/(l1 - l2))**0.5\n",
    "sigma_t = (((t1 + t2) / 2 - t1)**2 + ((t1 + t2) / 2 - t2)**2)**0.5\n",
    "sigma_t0 = (l1**2 + l2**2)**0.5 / (l1 - l2) * sigma_t\n",
    "\n",
    "sigma_l = 1 # мм\n",
    "sigma_g = ((sigma_l / (l1 + l2))**2 + 4 * (sigma_t0 / t0)**2)**0.5 * g\n",
    "print(sigma_g)"
   ]
  },
  {
   "cell_type": "code",
   "execution_count": 8,
   "metadata": {},
   "outputs": [],
   "source": [
    "def shrink_error(num):\n",
    "\ti = 0\n",
    "\twhile float('{:.{prec:d}f}'.format(num, prec=i)) / num < 0.8: i += 1\n",
    "\treturn '{:.{prec:d}f}'.format(num, prec=i), i\n",
    "\n",
    "def fmt(num, error):\n",
    "\terror, digits = shrink_error(error)\n",
    "\treturn '{:.{prec:d}f}±{:s}'.format(num, error, prec=digits)\n"
   ]
  },
  {
   "cell_type": "code",
   "execution_count": 26,
   "metadata": {
    "scrolled": true
   },
   "outputs": [
    {
     "data": {
      "text/latex": [
       "$$g = 9.9±0.3 м/с^2$$"
      ],
      "text/plain": [
       "<IPython.core.display.Math object>"
      ]
     },
     "metadata": {},
     "output_type": "display_data"
    }
   ],
   "source": [
    "display(Math(r'g = {} м/с^2'.format(fmt(g, sigma_g))))"
   ]
  }
 ],
 "metadata": {
  "kernelspec": {
   "display_name": "Python 3",
   "language": "python",
   "name": "python3"
  },
  "language_info": {
   "codemirror_mode": {
    "name": "ipython",
    "version": 3
   },
   "file_extension": ".py",
   "mimetype": "text/x-python",
   "name": "python",
   "nbconvert_exporter": "python",
   "pygments_lexer": "ipython3",
   "version": "3.6.5"
  }
 },
 "nbformat": 4,
 "nbformat_minor": 2
}
